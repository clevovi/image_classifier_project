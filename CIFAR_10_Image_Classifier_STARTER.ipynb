{
  "cells": [
    {
      "cell_type": "markdown",
      "metadata": {
        "id": "VE0AgqV3hKUW"
      },
      "source": [
        "# Introduction\n",
        "\n",
        "In this project, you will build a neural network of your own design to evaluate the CIFAR-10 dataset.\n",
        "\n",
        "To meet the requirements for this project, you will need to achieve an accuracy greater than 45%.\n",
        "If you want to beat Detectocorp's algorithm, you'll need to achieve an accuracy greater than 70%.\n",
        "(Beating Detectocorp's algorithm is not a requirement for passing this project, but you're encouraged to try!)\n",
        "\n",
        "Some of the benchmark results on CIFAR-10 include:\n",
        "\n",
        "78.9% Accuracy | [Deep Belief Networks; Krizhevsky, 2010](https://www.cs.toronto.edu/~kriz/conv-cifar10-aug2010.pdf)\n",
        "\n",
        "90.6% Accuracy | [Maxout Networks; Goodfellow et al., 2013](https://arxiv.org/pdf/1302.4389.pdf)\n",
        "\n",
        "96.0% Accuracy | [Wide Residual Networks; Zagoruyko et al., 2016](https://arxiv.org/pdf/1605.07146.pdf)\n",
        "\n",
        "99.0% Accuracy | [GPipe; Huang et al., 2018](https://arxiv.org/pdf/1811.06965.pdf)\n",
        "\n",
        "98.5% Accuracy | [Rethinking Recurrent Neural Networks and other Improvements for ImageClassification; Nguyen et al., 2020](https://arxiv.org/pdf/2007.15161.pdf)\n",
        "\n",
        "Research with this dataset is ongoing. Notably, many of these networks are quite large and quite expensive to train.\n",
        "\n",
        "## Imports"
      ]
    },
    {
      "cell_type": "code",
      "execution_count": 4,
      "metadata": {
        "id": "BXlDajqihKUd"
      },
      "outputs": [],
      "source": [
        "## This cell contains the essential imports you will need – DO NOT CHANGE THE CONTENTS! ##\n",
        "import torch\n",
        "import torch.nn as nn\n",
        "import torch.nn.functional as F\n",
        "import torch.optim as optim\n",
        "import torchvision\n",
        "import torchvision.transforms as transforms\n",
        "import matplotlib.pyplot as plt\n",
        "import numpy as np\n"
      ]
    },
    {
      "cell_type": "markdown",
      "metadata": {
        "id": "qK5NDhv8hKUn"
      },
      "source": [
        "## Load the Dataset\n",
        "\n",
        "Specify your transforms as a list first.\n",
        "The transforms module is already loaded as `transforms`.\n",
        "\n",
        "CIFAR-10 is fortunately included in the torchvision module.\n",
        "Then, you can create your dataset using the `CIFAR10` object from `torchvision.datasets` ([the documentation is available here](https://pytorch.org/vision/stable/generated/torchvision.datasets.CIFAR10.html)).\n",
        "Make sure to specify `download=True`!\n",
        "\n",
        "Once your dataset is created, you'll also need to define a `DataLoader` from the `torch.utils.data` module for both the train and the test set."
      ]
    },
    {
      "cell_type": "code",
      "execution_count": 6,
      "metadata": {
        "id": "haUZl__SiyXY"
      },
      "outputs": [],
      "source": [
        "# Load the required libraries\n",
        "import torch\n",
        "from torchvision.datasets import CIFAR10\n",
        "from torch.utils.data import DataLoader\n"
      ]
    },
    {
      "cell_type": "code",
      "execution_count": 7,
      "metadata": {
        "colab": {
          "base_uri": "https://localhost:8080/"
        },
        "id": "yXPujCqWhKUo",
        "outputId": "546e1557-40aa-4770-c7e2-95c7e07b91a5"
      },
      "outputs": [
        {
          "output_type": "stream",
          "name": "stdout",
          "text": [
            "Downloading https://www.cs.toronto.edu/~kriz/cifar-10-python.tar.gz to ./data/cifar-10-python.tar.gz\n"
          ]
        },
        {
          "output_type": "stream",
          "name": "stderr",
          "text": [
            "100%|██████████| 170498071/170498071 [00:10<00:00, 15760096.75it/s]\n"
          ]
        },
        {
          "output_type": "stream",
          "name": "stdout",
          "text": [
            "Extracting ./data/cifar-10-python.tar.gz to ./data\n"
          ]
        },
        {
          "output_type": "stream",
          "name": "stderr",
          "text": [
            "/usr/local/lib/python3.10/dist-packages/torch/utils/data/dataloader.py:560: UserWarning: This DataLoader will create 4 worker processes in total. Our suggested max number of worker in current system is 2, which is smaller than what this DataLoader is going to create. Please be aware that excessive worker creation might get DataLoader running slow or even freeze, lower the worker number to avoid potential slowness/freeze if necessary.\n",
            "  warnings.warn(_create_warning_msg(\n"
          ]
        },
        {
          "output_type": "stream",
          "name": "stdout",
          "text": [
            "Downloading https://www.cs.toronto.edu/~kriz/cifar-10-python.tar.gz to ./data/test/cifar-10-python.tar.gz\n"
          ]
        },
        {
          "output_type": "stream",
          "name": "stderr",
          "text": [
            "100%|██████████| 170498071/170498071 [00:10<00:00, 15891359.79it/s]\n"
          ]
        },
        {
          "output_type": "stream",
          "name": "stdout",
          "text": [
            "Extracting ./data/test/cifar-10-python.tar.gz to ./data/test\n"
          ]
        }
      ],
      "source": [
        "# Define transforms\n",
        "from torch.utils.data import random_split\n",
        "#from torchvision import transformers\n",
        " #mean = [0.4914, 0.4822, 0.4465] and std = [0.2023, 0.1994, 0.2010].\n",
        "transforms_list=transforms.Compose([transforms.RandomCrop(32,padding=4),\n",
        "                                        transforms.RandomHorizontalFlip(),\n",
        "                                        transforms.ToTensor(),\n",
        "                                        transforms.Normalize(mean=[0.4914, 0.4822, 0.4465],std=[0.2023, 0.1994, 0.2010])])\n",
        "\n",
        "# Create training set and define training dataloader\n",
        "full_train_set=CIFAR10(root='./data',train=True,download=True,transform=transforms_list)\n",
        "\n",
        "train_size=int(0.8*len(full_train_set))\n",
        "valid_size=len(full_train_set)-train_size\n",
        "\n",
        "train_subset,valid_subset=random_split(full_train_set,[train_size,valid_size])\n",
        "#train_set=CIFAR10(root='./data',train=True,download=True,transform=transforms_list)\n",
        "train_loader=DataLoader(train_subset,batch_size=16,shuffle=True,num_workers=4)\n",
        "valid_loader=DataLoader(valid_subset,batch_size=16,shuffle=False,num_workers=4)\n",
        "\n",
        "# Create test set and define test dataloader\n",
        "\n",
        "test_set=CIFAR10(root='./data/test',train=False,download=True,transform=transforms_list)\n",
        "test_loader=DataLoader(test_set,batch_size=16,shuffle=False,num_workers=4)\n",
        "\n",
        "# The 10 classes in the dataset\n",
        "classes = ('plane', 'car', 'bird', 'cat', 'deer', 'dog', 'frog', 'horse', 'ship', 'truck')"
      ]
    },
    {
      "cell_type": "code",
      "execution_count": 8,
      "metadata": {
        "colab": {
          "base_uri": "https://localhost:8080/"
        },
        "id": "fUDUJDUHpTrW",
        "outputId": "978ef9e7-a9c7-4e09-ccd5-ffbf57901c50"
      },
      "outputs": [
        {
          "output_type": "execute_result",
          "data": {
            "text/plain": [
              "Dataset CIFAR10\n",
              "    Number of datapoints: 10000\n",
              "    Root location: ./data/test\n",
              "    Split: Test\n",
              "    StandardTransform\n",
              "Transform: Compose(\n",
              "               RandomCrop(size=(32, 32), padding=4)\n",
              "               RandomHorizontalFlip(p=0.5)\n",
              "               ToTensor()\n",
              "               Normalize(mean=[0.4914, 0.4822, 0.4465], std=[0.2023, 0.1994, 0.201])\n",
              "           )"
            ]
          },
          "metadata": {},
          "execution_count": 8
        }
      ],
      "source": [
        "test_set"
      ]
    },
    {
      "cell_type": "markdown",
      "metadata": {
        "id": "Lo0ar3wShKUo"
      },
      "source": [
        "## Explore the Dataset\n",
        "Using matplotlib, numpy, and torch, explore the dimensions of your data.\n",
        "\n",
        "You can view images using the `show5` function defined below – it takes a data loader as an argument.\n",
        "Remember that normalized images will look really weird to you! You may want to try changing your transforms to view images.\n",
        "Typically using no transforms other than `toTensor()` works well for viewing – but not as well for training your network.\n",
        "If `show5` doesn't work, go back and check your code for creating your data loaders and your training/test sets."
      ]
    },
    {
      "cell_type": "code",
      "execution_count": 9,
      "metadata": {
        "id": "L7YcFP0BhKUo"
      },
      "outputs": [],
      "source": [
        "def show5(img_loader):\n",
        "    dataiter = iter(img_loader)\n",
        "\n",
        "    batch = next(dataiter)\n",
        "    labels = batch[1][0:5]\n",
        "    images = batch[0][0:5]\n",
        "    for i in range(5):\n",
        "        print(classes[labels[i]])\n",
        "\n",
        "        image = images[i].numpy()\n",
        "        plt.imshow(np.rot90(image.T, k=3))\n",
        "        plt.show()"
      ]
    },
    {
      "cell_type": "code",
      "execution_count": 10,
      "metadata": {
        "colab": {
          "base_uri": "https://localhost:8080/",
          "height": 1000
        },
        "id": "0rlT04h2pzbW",
        "outputId": "1db72c04-cd59-4371-ab9e-a85f92c0703a"
      },
      "outputs": [
        {
          "output_type": "stream",
          "name": "stderr",
          "text": [
            "WARNING:matplotlib.image:Clipping input data to the valid range for imshow with RGB data ([0..1] for floats or [0..255] for integers).\n"
          ]
        },
        {
          "output_type": "stream",
          "name": "stdout",
          "text": [
            "horse\n"
          ]
        },
        {
          "output_type": "display_data",
          "data": {
            "text/plain": [
              "<Figure size 640x480 with 1 Axes>"
            ],
            "image/png": "[encoded data removed]"
          },
          "metadata": {}
        },
        {
          "output_type": "stream",
          "name": "stderr",
          "text": [
            "WARNING:matplotlib.image:Clipping input data to the valid range for imshow with RGB data ([0..1] for floats or [0..255] for integers).\n"
          ]
        },
        {
          "output_type": "stream",
          "name": "stdout",
          "text": [
            "cat\n"
          ]
        },
        {
          "output_type": "display_data",
          "data": {
            "text/plain": [
              "<Figure size 640x480 with 1 Axes>"
            ],
            "image/png": "[encoded data removed]"
          },
          "metadata": {}
        },
        {
          "output_type": "stream",
          "name": "stdout",
          "text": [
            "truck\n"
          ]
        },
        {
          "output_type": "stream",
          "name": "stderr",
          "text": [
            "WARNING:matplotlib.image:Clipping input data to the valid range for imshow with RGB data ([0..1] for floats or [0..255] for integers).\n"
          ]
        },
        {
          "output_type": "display_data",
          "data": {
            "text/plain": [
              "<Figure size 640x480 with 1 Axes>"
            ],
            "image/png": "[encoded data removed]"
          },
          "metadata": {}
        },
        {
          "output_type": "stream",
          "name": "stdout",
          "text": [
            "truck\n"
          ]
        },
        {
          "output_type": "stream",
          "name": "stderr",
          "text": [
            "WARNING:matplotlib.image:Clipping input data to the valid range for imshow with RGB data ([0..1] for floats or [0..255] for integers).\n"
          ]
        },
        {
          "output_type": "display_data",
          "data": {
            "text/plain": [
              "<Figure size 640x480 with 1 Axes>"
            ],
            "image/png": "[encoded data removed]"
          },
          "metadata": {}
        },
        {
          "output_type": "stream",
          "name": "stderr",
          "text": [
            "WARNING:matplotlib.image:Clipping input data to the valid range for imshow with RGB data ([0..1] for floats or [0..255] for integers).\n"
          ]
        },
        {
          "output_type": "stream",
          "name": "stdout",
          "text": [
            "dog\n"
          ]
        },
        {
          "output_type": "display_data",
          "data": {
            "text/plain": [
              "<Figure size 640x480 with 1 Axes>"
            ],
            "image/png": "[encoded data removed]"
          },
          "metadata": {}
        }
      ],
      "source": [
        "show5(train_loader)"
      ]
    },
    {
      "cell_type": "code",
      "execution_count": 11,
      "metadata": {
        "id": "ahH2Jv-RhKUp"
      },
      "outputs": [],
      "source": [
        "# Explore data\n",
        "dataiter=iter(full_train_set)\n",
        "images,labels=next(dataiter)"
      ]
    },
    {
      "cell_type": "code",
      "execution_count": 12,
      "metadata": {
        "colab": {
          "base_uri": "https://localhost:8080/"
        },
        "id": "9r3DYAL3rRPG",
        "outputId": "d1963974-3d79-4c06-da02-c88bfe70f042"
      },
      "outputs": [
        {
          "output_type": "execute_result",
          "data": {
            "text/plain": [
              "3"
            ]
          },
          "metadata": {},
          "execution_count": 12
        }
      ],
      "source": [
        "len(images)"
      ]
    },
    {
      "cell_type": "code",
      "execution_count": 13,
      "metadata": {
        "colab": {
          "base_uri": "https://localhost:8080/"
        },
        "id": "rK9HhDpNrWV8",
        "outputId": "4da0905f-5a34-4ad3-e85c-a5c421176e18"
      },
      "outputs": [
        {
          "output_type": "execute_result",
          "data": {
            "text/plain": [
              "torch.Size([32, 32])"
            ]
          },
          "metadata": {},
          "execution_count": 13
        }
      ],
      "source": [
        "images[0].shape"
      ]
    },
    {
      "cell_type": "code",
      "execution_count": 14,
      "metadata": {
        "colab": {
          "base_uri": "https://localhost:8080/"
        },
        "id": "GXcyvLBSrdFg",
        "outputId": "67bf8eeb-6945-41e7-f54d-db8353b8cfb2"
      },
      "outputs": [
        {
          "output_type": "execute_result",
          "data": {
            "text/plain": [
              "torch.Size([3, 32, 32])"
            ]
          },
          "metadata": {},
          "execution_count": 14
        }
      ],
      "source": [
        "images.shape"
      ]
    },
    {
      "cell_type": "code",
      "execution_count": 15,
      "metadata": {
        "colab": {
          "base_uri": "https://localhost:8080/"
        },
        "id": "o0yEqZ8lrjPI",
        "outputId": "34a9a6d8-700a-46f2-ee7e-08e1d45f1709"
      },
      "outputs": [
        {
          "output_type": "execute_result",
          "data": {
            "text/plain": [
              "6"
            ]
          },
          "metadata": {},
          "execution_count": 15
        }
      ],
      "source": [
        "labels"
      ]
    },
    {
      "cell_type": "markdown",
      "metadata": {
        "id": "lUMsQdHDhKUp"
      },
      "source": [
        "## Build your Neural Network\n",
        "Using the layers in `torch.nn` (which has been imported as `nn`) and the `torch.nn.functional` module (imported as `F`), construct a neural network based on the parameters of the dataset.\n",
        "Feel free to construct a model of any architecture – feedforward, convolutional, or even something more advanced!"
      ]
    },
    {
      "cell_type": "code",
      "execution_count": 16,
      "metadata": {
        "id": "N2tTJknFhKUp"
      },
      "outputs": [],
      "source": [
        "## YOUR CODE HERE ##\n",
        "class SimpleCNN(nn.Module):\n",
        "  def __init__(self):\n",
        "    super(SimpleCNN,self).__init__()\n",
        "    #cnn\n",
        "    self.conv1=nn.Conv2d(in_channels=3, out_channels=32,kernel_size=3,padding=1)\n",
        "    self.conv2=nn.Conv2d(in_channels=32, out_channels=64,kernel_size=3,padding=1)\n",
        "    self.conv3=nn.Conv2d(in_channels=64, out_channels=128,kernel_size=3,padding=1)\n",
        "\n",
        "    #fully connected layer MLP\n",
        "    self.fc1=nn.Linear(128*4*4,256)\n",
        "    self.fc2=nn.Linear(256,10)\n",
        "\n",
        "    self.dropout=nn.Dropout(0.5)\n",
        "  def forward(self,x):\n",
        "    x=F.max_pool2d(F.relu(self.conv1(x)),2)#32*32 => 16*16\n",
        "    x=F.max_pool2d(F.relu(self.conv2(x)),2)#16*16 => 8*8\n",
        "    x=F.max_pool2d(F.relu(self.conv3(x)),2)#8*8 => 4*4\n",
        "\n",
        "\n",
        "    x=x.view(-1,128*4*4)\n",
        "\n",
        "    x=self.dropout(F.relu(self.fc1(x)))\n",
        "    x = F.log_softmax(self.fc2(x), dim=1)\n",
        "\n",
        "    return x\n"
      ]
    },
    {
      "cell_type": "markdown",
      "metadata": {
        "id": "-XCWqVNjhKUq"
      },
      "source": [
        "Specify a loss function and an optimizer, and instantiate the model.\n",
        "\n",
        "If you use a less common loss function, please note why you chose that loss function in a comment."
      ]
    },
    {
      "cell_type": "code",
      "execution_count": null,
      "metadata": {
        "id": "X5ScKFT9hKUq"
      },
      "outputs": [],
      "source": [
        "## YOUR CODE HERE ##"
      ]
    },
    {
      "cell_type": "code",
      "execution_count": 17,
      "metadata": {
        "id": "3K8qLv9Wxome"
      },
      "outputs": [],
      "source": [
        "num_epoch=10\n",
        "model=SimpleCNN()\n",
        "criterion=nn.NLLLoss()\n",
        "optimizer=optim.SGD(model.parameters(),lr=0.01,momentum=0.0)\n",
        "\n"
      ]
    },
    {
      "cell_type": "code",
      "execution_count": 29,
      "metadata": {
        "colab": {
          "base_uri": "https://localhost:8080/"
        },
        "id": "mrO1DV8J0uRn",
        "outputId": "e860dc1a-3992-415d-a8e4-08822f517492"
      },
      "outputs": [
        {
          "output_type": "stream",
          "name": "stdout",
          "text": [
            "Epoch 1/10, Training Loss: 1.9314, Validation Loss: 3.0684\n",
            "Epoch 2/10, Training Loss: 1.5912, Validation Loss: 3.5338\n",
            "Epoch 3/10, Training Loss: 1.4498, Validation Loss: 4.3421\n",
            "Epoch 4/10, Training Loss: 1.3386, Validation Loss: 4.2279\n",
            "Epoch 5/10, Training Loss: 1.2387, Validation Loss: 4.3312\n",
            "Epoch 6/10, Training Loss: 1.1511, Validation Loss: 4.6607\n",
            "Epoch 7/10, Training Loss: 1.0701, Validation Loss: 5.2698\n",
            "Epoch 8/10, Training Loss: 1.0077, Validation Loss: 4.8804\n",
            "Epoch 9/10, Training Loss: 0.9586, Validation Loss: 5.2472\n",
            "Epoch 10/10, Training Loss: 0.9148, Validation Loss: 7.0630\n"
          ]
        }
      ],
      "source": [
        "train_losses=[]\n",
        "valid_losses=[]\n",
        "for epoch in range(num_epoch):\n",
        "  model.train()\n",
        "  train_loss=0.0\n",
        "  for inputs, labels in train_loader:\n",
        "    optimizer.zero_grad()\n",
        "    outputs=model(inputs)\n",
        "    loss=criterion(outputs,labels)\n",
        "    loss.backward()\n",
        "    optimizer.step()\n",
        "    train_loss +=loss.item()\n",
        "  train_losses.append(train_loss/len(train_loader))\n",
        "  #model evaluation\n",
        "  model.eval()\n",
        "  valid_loss=0.0\n",
        "  with torch.no_grad():\n",
        "    for input,labels in valid_loader:\n",
        "      outputs=model(inputs)\n",
        "      loss=criterion(outputs,labels)\n",
        "      valid_loss +=loss.item()\n",
        "    valid_losses.append(valid_loss/len(valid_loader))\n",
        "    print(f\"Epoch {epoch+1}/{num_epoch}, Training Loss: {train_loss/len(train_loader):.4f}, Validation Loss: {valid_loss/len(valid_loader):.4f}\")\n",
        "    #print(f\"Epoch {epoch+1}/{num_epoch} ,Training loss:{train_loss/len(train_loader),Validation loss:{valid_loss/len(valid_loader):.4f}\")"
      ]
    },
    {
      "cell_type": "markdown",
      "metadata": {
        "id": "R2fNzhnghKUq"
      },
      "source": [
        "## Running your Neural Network\n",
        "Use whatever method you like to train your neural network, and ensure you record the average loss at each epoch.\n",
        "Don't forget to use `torch.device()` and the `.to()` method for both your model and your data if you are using GPU!\n",
        "\n",
        "If you want to print your loss during each epoch, you can use the `enumerate` function and print the loss after a set number of batches. 250 batches works well for most people!"
      ]
    },
    {
      "cell_type": "code",
      "execution_count": null,
      "metadata": {
        "id": "AL6oaz6ehKUr"
      },
      "outputs": [],
      "source": [
        "## YOUR CODE HERE ##"
      ]
    },
    {
      "cell_type": "code",
      "execution_count": 30,
      "metadata": {
        "id": "I-7V10cXhKUr",
        "colab": {
          "base_uri": "https://localhost:8080/",
          "height": 445
        },
        "outputId": "6d74d1b2-8812-4259-d9e3-f1e72be38ebc"
      },
      "outputs": [
        {
          "output_type": "display_data",
          "data": {
            "text/plain": [
              "<Figure size 1000x500 with 1 Axes>"
            ],
            "image/png": "[encoded data removed]"
          },
          "metadata": {}
        }
      ],
      "source": [
        "import matplotlib.pyplot as plt\n",
        "\n",
        "plt.figure(figsize=(10, 5))\n",
        "plt.plot(train_losses, label='Training Loss', color='blue')\n",
        "plt.show()"
      ]
    },
    {
      "cell_type": "markdown",
      "metadata": {
        "id": "Aw7e5Z_AhKUr"
      },
      "source": [
        "Plot the training loss (and validation loss/accuracy, if recorded)."
      ]
    },
    {
      "cell_type": "code",
      "source": [
        "import matplotlib.pyplot as plt\n",
        "\n",
        "plt.figure(figsize=(10, 5))\n",
        "plt.plot(valid_losses, label='Validation Loss', color='blue')\n",
        "plt.show()"
      ],
      "metadata": {
        "colab": {
          "base_uri": "https://localhost:8080/",
          "height": 445
        },
        "id": "gaRjFcybqmfR",
        "outputId": "e5bd28c0-3829-46cc-8c91-73ad28dbff63"
      },
      "execution_count": 31,
      "outputs": [
        {
          "output_type": "display_data",
          "data": {
            "text/plain": [
              "<Figure size 1000x500 with 1 Axes>"
            ],
            "image/png": "[encoded data removed]"
          },
          "metadata": {}
        }
      ]
    },
    {
      "cell_type": "markdown",
      "metadata": {
        "id": "Vn73cVbOhKUr"
      },
      "source": [
        "## Testing your model\n",
        "Using the previously created `DataLoader` for the test set, compute the percentage of correct predictions using the highest probability prediction.\n",
        "\n",
        "If your accuracy is over 70%, great work!\n",
        "This is a hard task to exceed 70% on.\n",
        "\n",
        "If your accuracy is under 45%, you'll need to make improvements.\n",
        "Go back and check your model architecture, loss function, and optimizer to make sure they're appropriate for an image classification task."
      ]
    },
    {
      "cell_type": "code",
      "execution_count": 33,
      "metadata": {
        "id": "KcYQts-3hKUs",
        "colab": {
          "base_uri": "https://localhost:8080/"
        },
        "outputId": "0c149af0-27be-49b0-a508-cba8ee42f59d"
      },
      "outputs": [
        {
          "output_type": "stream",
          "name": "stdout",
          "text": [
            "Accuracy on test set: 70.11%\n"
          ]
        }
      ],
      "source": [
        "def compute_accuracy(model, dataloader):\n",
        "    correct_predictions = 0\n",
        "    total_predictions = 0\n",
        "\n",
        "    model.eval()\n",
        "\n",
        "    with torch.no_grad():\n",
        "        for inputs, labels in dataloader:\n",
        "            outputs = model(inputs)\n",
        "\n",
        "            _, predicted = outputs.max(1)\n",
        "\n",
        "            total_predictions += labels.size(0)\n",
        "            correct_predictions += (predicted == labels).sum().item()\n",
        "\n",
        "    accuracy = 100 * correct_predictions / total_predictions\n",
        "    return accuracy\n",
        "\n",
        "test_accuracy = compute_accuracy(model, test_loader)\n",
        "\n",
        "print(f\"Accuracy on test set: {test_accuracy:.2f}%\")"
      ]
    },
    {
      "cell_type": "markdown",
      "metadata": {
        "id": "PrR-LDKThKUs"
      },
      "source": [
        "## Saving your model\n",
        "Using `torch.save`, save your model for future loading."
      ]
    },
    {
      "cell_type": "code",
      "source": [
        "torch.save(model.parameters(),PATH)"
      ],
      "metadata": {
        "id": "mhR_cWY7nYeL"
      },
      "execution_count": null,
      "outputs": []
    },
    {
      "cell_type": "markdown",
      "metadata": {
        "id": "MhjjI8Z_hKUt"
      },
      "source": [
        "## Make a Recommendation\n",
        "\n",
        "Based on your evaluation, what is your recommendation on whether to build or buy? Explain your reasoning below.\n",
        "\n",
        "Some things to consider as you formulate your recommendation:\n",
        "* How does your model compare to Detectocorp's model?\n",
        "* How does it compare to the far more advanced solutions in the literature?\n",
        "* What did you do to get the accuracy you achieved?\n",
        "* Is it necessary to improve this accuracy? If so, what sort of work would be involved in improving it?"
      ]
    },
    {
      "cell_type": "markdown",
      "metadata": {
        "id": "Y3MXo6HLhKUt"
      },
      "source": [
        "This model using CNN hits an accuracy of 70Z% which is good. Therefore I would recomend building our own classifier. HOwever, this solutaion still does not beat some of the other models listed in the literature and noted in this project that have accuracies greater then 70%. Here you can also see that the validation error did not decrease consistantly with each additional epoch as did the training. TO impove I would add additional features to the model such as experimenting with different model architectures and also increasing th epoch number.\n",
        "\n",
        "**Double click this cell to modify it**\n",
        "\n"
      ]
    },
    {
      "cell_type": "markdown",
      "metadata": {
        "id": "_evc3fk8hKUt"
      },
      "source": [
        "## Submit Your Project\n",
        "\n",
        "When you are finished editing the notebook and are ready to turn it in, simply click the **SUBMIT PROJECT** button in the lower right.\n",
        "\n",
        "Once you submit your project, we'll review your work and give you feedback if there's anything that you need to work on. If you'd like to see the exact points that your reviewer will check for when looking at your work, you can have a look over the project [rubric](https://review.udacity.com/#!/rubrics/3077/view)."
      ]
    }
  ],
  "metadata": {
    "colab": {
      "provenance": []
    },
    "kernelspec": {
      "display_name": "Python 3",
      "language": "python",
      "name": "python3"
    },
    "language_info": {
      "codemirror_mode": {
        "name": "ipython",
        "version": 3
      },
      "file_extension": ".py",
      "mimetype": "text/x-python",
      "name": "python",
      "nbconvert_exporter": "python",
      "pygments_lexer": "ipython3",
      "version": "3.6.3"
    }
  },
  "nbformat": 4,
  "nbformat_minor": 0
}